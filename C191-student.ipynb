{
 "cells": [
  {
   "cell_type": "code",
   "execution_count": 14,
   "metadata": {},
   "outputs": [
    {
     "name": "stdout",
     "output_type": "stream",
     "text": [
      "Name :\n",
      "We will continue learning about data visualization, and sort the data\n",
      "Plot bar graphs for the countries who has the heaviest satellites in space\n",
      "Plot bar graphs for the countries whose satellites consumes the least power in space\n"
     ]
    }
   ],
   "source": [
    "print(\"Name :\")\n",
    "print(\"We will continue learning about data visualization, and sort the data\")\n",
    "print(\"Plot bar graphs for the countries who has the heaviest satellites in space\")\n",
    "print(\"Plot bar graphs for the countries whose satellites consumes the least power in space\")"
   ]
  },
  {
   "cell_type": "code",
   "execution_count": 15,
   "metadata": {},
   "outputs": [
    {
     "name": "stdout",
     "output_type": "stream",
     "text": [
      "    Dry Mass (Kilograms) Official Name of Satellite\n",
      "895                                         Nimiq 4\n",
      "217                    1             Cubesat XI-IV \n",
      "160          1,050 (BOL)              Brazilsat B-4\n",
      "158          1,050 (BOL)              Brazilsat B-2\n",
      "159          1,050 (BOL)              Brazilsat B-3\n"
     ]
    },
    {
     "data": {
      "text/plain": [
       "<BarContainer object of 5 artists>"
      ]
     },
     "execution_count": 15,
     "metadata": {},
     "output_type": "execute_result"
    },
    {
     "data": {
      "image/png": "[encoded data removed]",
      "text/plain": [
       "<Figure size 432x288 with 1 Axes>"
      ]
     },
     "metadata": {
      "needs_background": "light"
     },
     "output_type": "display_data"
    }
   ],
   "source": [
    "#Activity-1\n",
    "#Q - Sort the data and find out the which Countries has the heaviest satellites, and plot a bar graph out of it\n",
    "import pandas as pd\n",
    "from matplotlib import pyplot as plt\n",
    "\n",
    "dataframe = pd.read_csv('C191_satellite_data.csv')\n",
    "\n",
    "dataframe\n",
    "\n",
    "df = pd.DataFrame(dataframe, columns = ['Dry Mass (Kilograms)', 'Official Name of Satellite'])\n",
    "df.replace(\"\", float(\"Nan\"), inplace = True)\n",
    "df.dropna()\n",
    "\n",
    "sorted_df = df.sort_values(by = ['Dry Mass (Kilograms)'])\n",
    "sorted_df\n",
    "\n",
    "heavy_saterllite_5 = sorted_df.head(5)\n",
    "print(heavy_saterllite_5)\n",
    "\n",
    "name = heavy_saterllite_5['Official Name of Satellite']\n",
    "weight = heavy_saterllite_5['Dry Mass (Kilograms)']\n",
    "\n",
    "plt.xlabel('Official Name of Satellite')\n",
    "plt.xticks(rotation = (\"vertical\"))\n",
    "plt.ylabel('Dry Mass (Kilograms)')\n",
    "\n",
    "label = name\n",
    "value = weight\n",
    "plt.bar(label, value,width=0.4, color=('red','yellow','green','pink','blue')) #bar-grap"
   ]
  },
  {
   "cell_type": "code",
   "execution_count": 16,
   "metadata": {},
   "outputs": [
    {
     "data": {
      "text/html": [
       "<div>\n",
       "<style scoped>\n",
       "    .dataframe tbody tr th:only-of-type {\n",
       "        vertical-align: middle;\n",
       "    }\n",
       "\n",
       "    .dataframe tbody tr th {\n",
       "        vertical-align: top;\n",
       "    }\n",
       "\n",
       "    .dataframe thead th {\n",
       "        text-align: right;\n",
       "    }\n",
       "</style>\n",
       "<table border=\"1\" class=\"dataframe\">\n",
       "  <thead>\n",
       "    <tr style=\"text-align: right;\">\n",
       "      <th></th>\n",
       "      <th>Dry Mass (Kilograms)</th>\n",
       "      <th>Official Name of Satellite</th>\n",
       "    </tr>\n",
       "  </thead>\n",
       "  <tbody>\n",
       "    <tr>\n",
       "      <th>217</th>\n",
       "      <td>1</td>\n",
       "      <td>Cubesat XI-IV</td>\n",
       "    </tr>\n",
       "    <tr>\n",
       "      <th>159</th>\n",
       "      <td>1,050 (BOL)</td>\n",
       "      <td>Brazilsat B-3</td>\n",
       "    </tr>\n",
       "    <tr>\n",
       "      <th>158</th>\n",
       "      <td>1,050 (BOL)</td>\n",
       "      <td>Brazilsat B-2</td>\n",
       "    </tr>\n",
       "    <tr>\n",
       "      <th>160</th>\n",
       "      <td>1,050 (BOL)</td>\n",
       "      <td>Brazilsat B-4</td>\n",
       "    </tr>\n",
       "    <tr>\n",
       "      <th>569</th>\n",
       "      <td>1,500-1,900</td>\n",
       "      <td>Helios 2A</td>\n",
       "    </tr>\n",
       "    <tr>\n",
       "      <th>...</th>\n",
       "      <td>...</td>\n",
       "      <td>...</td>\n",
       "    </tr>\n",
       "    <tr>\n",
       "      <th>882</th>\n",
       "      <td>980</td>\n",
       "      <td>USA 196</td>\n",
       "    </tr>\n",
       "    <tr>\n",
       "      <th>884</th>\n",
       "      <td>980</td>\n",
       "      <td>USA 201</td>\n",
       "    </tr>\n",
       "    <tr>\n",
       "      <th>867</th>\n",
       "      <td>980</td>\n",
       "      <td>USA 175</td>\n",
       "    </tr>\n",
       "    <tr>\n",
       "      <th>875</th>\n",
       "      <td>980</td>\n",
       "      <td>USA 154</td>\n",
       "    </tr>\n",
       "    <tr>\n",
       "      <th>868</th>\n",
       "      <td>980</td>\n",
       "      <td>USA 177</td>\n",
       "    </tr>\n",
       "  </tbody>\n",
       "</table>\n",
       "<p>472 rows × 2 columns</p>\n",
       "</div>"
      ],
      "text/plain": [
       "    Dry Mass (Kilograms) Official Name of Satellite\n",
       "217                    1             Cubesat XI-IV \n",
       "159          1,050 (BOL)              Brazilsat B-3\n",
       "158          1,050 (BOL)              Brazilsat B-2\n",
       "160          1,050 (BOL)              Brazilsat B-4\n",
       "569          1,500-1,900                  Helios 2A\n",
       "..                   ...                        ...\n",
       "882                  980                    USA 196\n",
       "884                  980                    USA 201\n",
       "867                  980                    USA 175\n",
       "875                  980                    USA 154\n",
       "868                  980                    USA 177\n",
       "\n",
       "[472 rows x 2 columns]"
      ]
     },
     "execution_count": 16,
     "metadata": {},
     "output_type": "execute_result"
    }
   ],
   "source": [
    "df = pd.DataFrame(dataframe, columns =['Dry Mass (Kilograms)','Official Name of Satellite'])\n",
    "df.replace(\" \", float(\"NaN\"), inplace=True)\n",
    "\n",
    "df = df.dropna()\n",
    "\n",
    "sorted_df = df.sort_values(by=['Dry Mass (Kilograms)'])\n",
    "sorted_df\n",
    "\n"
   ]
  },
  {
   "cell_type": "code",
   "execution_count": 17,
   "metadata": {},
   "outputs": [
    {
     "name": "stdout",
     "output_type": "stream",
     "text": [
      "    Dry Mass (Kilograms) Official Name of Satellite\n",
      "217                    1             Cubesat XI-IV \n",
      "159          1,050 (BOL)              Brazilsat B-3\n",
      "158          1,050 (BOL)              Brazilsat B-2\n",
      "160          1,050 (BOL)              Brazilsat B-4\n",
      "569          1,500-1,900                  Helios 2A\n"
     ]
    },
    {
     "data": {
      "text/plain": [
       "<BarContainer object of 5 artists>"
      ]
     },
     "execution_count": 17,
     "metadata": {},
     "output_type": "execute_result"
    },
    {
     "data": {
      "image/png": "[encoded data removed]",
      "text/plain": [
       "<Figure size 432x288 with 1 Axes>"
      ]
     },
     "metadata": {
      "needs_background": "light"
     },
     "output_type": "display_data"
    }
   ],
   "source": [
    "heavy_satellite_5 = sorted_df.head(5)\n",
    "print(heavy_satellite_5)\n",
    "\n",
    "name = heavy_satellite_5['Official Name of Satellite']\n",
    "weight = heavy_satellite_5['Dry Mass (Kilograms)']\n",
    "\n",
    "plt.xlabel(\"Official Name of Satellite\")\n",
    "plt.xticks(rotation='vertical')\n",
    "plt.ylabel(\"Mass (Kilograms)\")\n",
    "\n",
    "\n",
    "label = name\n",
    "value = weight \n",
    "plt.bar(label, value,width=0.4, color=('red','yellow','green','pink','blue')) #bar-grap\n"
   ]
  },
  {
   "cell_type": "code",
   "execution_count": 18,
   "metadata": {},
   "outputs": [
    {
     "name": "stdout",
     "output_type": "stream",
     "text": [
      "     Power (Watts) Official Name of Satellite\n",
      "1415           NaN                Zhongxing 9\n",
      "1416           NaN                   Zijing 1\n",
      "1417           NaN               Ziyuan 1-02C\n",
      "1418           NaN                   Ziyuan 3\n",
      "1419           NaN                  Ziyan 3-2\n"
     ]
    },
    {
     "data": {
      "text/plain": [
       "<BarContainer object of 5 artists>"
      ]
     },
     "execution_count": 18,
     "metadata": {},
     "output_type": "execute_result"
    },
    {
     "data": {
      "image/png": "[encoded data removed]",
      "text/plain": [
       "<Figure size 432x288 with 1 Axes>"
      ]
     },
     "metadata": {
      "needs_background": "light"
     },
     "output_type": "display_data"
    }
   ],
   "source": [
    "#Activity-2\n",
    "#Q - Sort the data and find out 5 Countries whose satellites consume the least power, and plot a bar graph out of it\n",
    "import pandas as pd\n",
    "from matplotlib import pyplot as plt\n",
    "\n",
    "dataframe = pd.read_csv('C191_satellite_data.csv')\n",
    "\n",
    "dataframe\n",
    "\n",
    "df = pd.DataFrame(dataframe, columns = ['Power (Watts)', 'Official Name of Satellite'])\n",
    "df.replace(\"\", float(\"Nan\"), inplace = True)\n",
    "df.dropna()\n",
    "\n",
    "sorted_df = df.sort_values(by = ['Power (Watts)'])\n",
    "sorted_df\n",
    "\n",
    "use_least_power_saterllite = sorted_df.tail(5)\n",
    "print(use_least_power_saterllite)\n",
    "\n",
    "name = use_least_power_saterllite['Official Name of Satellite']\n",
    "weight = use_least_power_saterllite['Power (Watts)']\n",
    "\n",
    "plt.xlabel('Official Name of Satellite')\n",
    "plt.xticks(rotation = (\"vertical\"))\n",
    "plt.ylabel('Power (Watts)')\n",
    "\n",
    "label = name\n",
    "value = weight\n",
    "plt.bar(label, value,width=0.4, color=('red','yellow','green','pink','blue')) #bar-grap\n"
   ]
  },
  {
   "cell_type": "code",
   "execution_count": null,
   "metadata": {},
   "outputs": [],
   "source": []
  },
  {
   "cell_type": "code",
   "execution_count": null,
   "metadata": {},
   "outputs": [],
   "source": []
  }
 ],
 "metadata": {
  "kernelspec": {
   "display_name": "Python 3",
   "language": "python",
   "name": "python3"
  },
  "language_info": {
   "codemirror_mode": {
    "name": "ipython",
    "version": 3
   },
   "file_extension": ".py",
   "mimetype": "text/x-python",
   "name": "python",
   "nbconvert_exporter": "python",
   "pygments_lexer": "ipython3",
   "version": "3.8.8"
  }
 },
 "nbformat": 4,
 "nbformat_minor": 4
}
